{
 "cells": [
  {
   "cell_type": "code",
   "execution_count": 14,
   "metadata": {
    "collapsed": true
   },
   "outputs": [],
   "source": [
    "%matplotlib inline\n",
    "import pyedflib\n",
    "import numpy as np\n",
    "import matplotlib.pylab as plt"
   ]
  },
  {
   "cell_type": "code",
   "execution_count": 8,
   "metadata": {
    "collapsed": false
   },
   "outputs": [],
   "source": [
    "f=pyedflib.EdfReader('test_generator_2.edf')"
   ]
  },
  {
   "cell_type": "code",
   "execution_count": 11,
   "metadata": {
    "collapsed": false
   },
   "outputs": [],
   "source": [
    "n = f.signals_in_file\n",
    "signal_labels = f.getSignalLabels()\n",
    "sigbufs = np.zeros((n, f.getNSamples()[0]))\n",
    "for i in np.arange(n):\n",
    "    sigbufs[i, :] = f.readSignal(i)"
   ]
  },
  {
   "cell_type": "code",
   "execution_count": 12,
   "metadata": {
    "collapsed": false
   },
   "outputs": [
    {
     "data": {
      "text/plain": [
       "['squarewave',\n",
       " 'ramp',\n",
       " 'pulse',\n",
       " 'ECG',\n",
       " 'noise',\n",
       " 'sine 1 Hz',\n",
       " 'sine 8 Hz',\n",
       " 'sine 8.5 Hz',\n",
       " 'sine 15 Hz',\n",
       " 'sine 17 Hz',\n",
       " 'sine 50 Hz']"
      ]
     },
     "execution_count": 12,
     "metadata": {},
     "output_type": "execute_result"
    }
   ],
   "source": [
    "signal_labels"
   ]
  },
  {
   "cell_type": "code",
   "execution_count": 13,
   "metadata": {
    "collapsed": false
   },
   "outputs": [
    {
     "data": {
      "text/plain": [
       "array([[  9.99923705e+01,   9.99923705e+01,   9.99923705e+01, ...,\n",
       "         -9.99618524e+01,  -9.99618524e+01,  -9.99618524e+01],\n",
       "       [ -9.99618524e+01,  -9.89547570e+01,  -9.79781796e+01, ...,\n",
       "          9.70016022e+01,   9.80086976e+01,   9.89852750e+01],\n",
       "       [  9.99923705e+01,   9.99923705e+01,   9.99923705e+01, ...,\n",
       "          1.52590219e-02,   1.52590219e-02,   1.52590219e-02],\n",
       "       ..., \n",
       "       [  4.53955901e+01,   8.08880751e+01,   9.87716487e+01, ...,\n",
       "         -8.08575570e+01,  -4.53650721e+01,   1.52590219e-02],\n",
       "       [  5.09193561e+01,   8.76325628e+01,   9.99618524e+01, ...,\n",
       "         -8.76020447e+01,  -5.08888380e+01,   1.52590219e-02],\n",
       "       [  9.99923705e+01,   1.52590219e-02,  -9.99618524e+01, ...,\n",
       "          1.52590219e-02,  -9.99618524e+01,   1.52590219e-02]])"
      ]
     },
     "execution_count": 13,
     "metadata": {},
     "output_type": "execute_result"
    }
   ],
   "source": [
    "sigbufs"
   ]
  },
  {
   "cell_type": "code",
   "execution_count": null,
   "metadata": {
    "collapsed": true
   },
   "outputs": [],
   "source": []
  }
 ],
 "metadata": {
  "anaconda-cloud": {},
  "kernelspec": {
   "display_name": "Python [conda env:django]",
   "language": "python",
   "name": "conda-env-django-py"
  },
  "language_info": {
   "codemirror_mode": {
    "name": "ipython",
    "version": 3
   },
   "file_extension": ".py",
   "mimetype": "text/x-python",
   "name": "python",
   "nbconvert_exporter": "python",
   "pygments_lexer": "ipython3",
   "version": "3.5.2"
  }
 },
 "nbformat": 4,
 "nbformat_minor": 1
}
